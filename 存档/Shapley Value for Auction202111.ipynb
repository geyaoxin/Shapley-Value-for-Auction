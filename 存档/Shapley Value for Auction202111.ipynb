{
 "cells": [
  {
   "cell_type": "code",
   "execution_count": 123,
   "metadata": {},
   "outputs": [],
   "source": [
    "import itertools\n",
    "import numpy as np"
   ]
  },
  {
   "cell_type": "code",
   "execution_count": 124,
   "metadata": {},
   "outputs": [
    {
     "name": "stdout",
     "output_type": "stream",
     "text": [
      "[(1,), (2,)]\n"
     ]
    }
   ],
   "source": [
    "a={1:\"a\",2:\"b\"}\n",
    "print(list(itertools.combinations(a,1)))"
   ]
  },
  {
   "cell_type": "code",
   "execution_count": 125,
   "metadata": {},
   "outputs": [],
   "source": [
    "def can_reach(BI,PI):\n",
    "    temp = set('S')\n",
    "    CR = set()\n",
    "    temp = temp.intersection(BI)\n",
    "    while len(temp) > 0:\n",
    "        temp1 = set()\n",
    "        while len(temp) > 0:\n",
    "            temp2 = temp.pop()\n",
    "            CR.add(temp2)\n",
    "            BI.discard(temp2)\n",
    "            temp1 = temp1.union(PI[temp2][1])\n",
    "        temp = temp1.intersection(BI)\n",
    "    return CR\n"
   ]
  },
  {
   "cell_type": "code",
   "execution_count": 126,
   "metadata": {},
   "outputs": [],
   "source": [
    "def calculate_v_func(participantsInfo,allocateFunc,num_item=1):\n",
    "    p_name=list(participantsInfo.keys())\n",
    "    v_func={}\n",
    "    for size in range(1,len(p_name)+1):\n",
    "        for coalition in itertools.combinations(p_name,size):\n",
    "            v_func[coalition]=allocateFunc(participantsInfo,set(coalition),num_item)[0]\n",
    "    return v_func\n",
    "\n",
    "def first_price_allocate(participantsInfo,coalition,num_item=1):\n",
    "    #now we just consider num_item=1\n",
    "    #return: social welfare, (winner, payment)\n",
    "    canReach=can_reach(coalition,participantsInfo)\n",
    "    currentSW=0\n",
    "    winner=\"S\"\n",
    "    for j in canReach:\n",
    "        if currentSW < participantsInfo[j][0][0]:\n",
    "            winner=j\n",
    "            currentSW = participantsInfo[j][0][0]\n",
    "    return currentSW, (winner, currentSW) \n",
    "\n",
    "\n",
    "    \n",
    "        \n"
   ]
  },
  {
   "cell_type": "code",
   "execution_count": 127,
   "metadata": {},
   "outputs": [],
   "source": [
    "def SW_of_permutation_first_price(participantsInfo, permutation, k=1):\n",
    "    currentSW = 0\n",
    "    SW = []\n",
    "    for i in range(N+1):\n",
    "        # analysis each participants in the randomPermutation order\n",
    "        # the name of participants that we are considering at present\n",
    "        beInvolved = set(permutation[0:i+1])\n",
    "        # print(beInvolved)\n",
    "\n",
    "        # judge which participants are valid\n",
    "        # the name of participants that we can reach S at present\n",
    "        canReach = can_reach(beInvolved, participantsInfo)\n",
    "        # print(canReach)\n",
    "\n",
    "        # get the current social welfare\n",
    "        for j in canReach:\n",
    "            currentSW = max(currentSW, participantsInfo[j][0][0])\n",
    "\n",
    "        # calculate marginal\n",
    "        SW.append(currentSW)\n",
    "    return SW\n",
    "\n",
    "def SW_of_permutation_first_price_modified(participantsInfo, permutation, k=1):\n",
    "    #delete the last participant's valuation\n",
    "\n",
    "\n",
    "    currentSW = 0\n",
    "    SW = []\n",
    "    for i in range(N+1):\n",
    "        # analysis each participants in the randomPermutation order\n",
    "        # the name of participants that we are considering at present\n",
    "        beInvolved = set(permutation[0:i+1])\n",
    "        # print(beInvolved)\n",
    "\n",
    "        # judge which participants are valid\n",
    "        # the name of participants that we can reach S at present\n",
    "        canReach = can_reach(beInvolved, participantsInfo)\n",
    "        # print(canReach)\n",
    "\n",
    "        # get the current social welfare\n",
    "        for j in canReach:\n",
    "            if j != permutation[i]:\n",
    "                currentSW = max(currentSW, participantsInfo[j][0][0])\n",
    "\n",
    "        # calculate marginal\n",
    "        SW.append(currentSW)\n",
    "    return SW\n"
   ]
  },
  {
   "cell_type": "code",
   "execution_count": 128,
   "metadata": {},
   "outputs": [
    {
     "name": "stdout",
     "output_type": "stream",
     "text": [
      "('S', 'A', 'B', 'C') [0, 1, 2, 3] [0, 0, 1, 2]\n",
      "('S', 'A', 'C', 'B') [0, 1, 3, 3] [0, 0, 1, 3]\n",
      "('S', 'B', 'A', 'C') [0, 2, 2, 3] [0, 0, 2, 2]\n",
      "('S', 'B', 'C', 'A') [0, 2, 2, 3] [0, 0, 2, 3]\n",
      "('S', 'C', 'A', 'B') [0, 0, 3, 3] [0, 0, 3, 3]\n",
      "('S', 'C', 'B', 'A') [0, 0, 2, 3] [0, 0, 0, 3]\n",
      "('A', 'S', 'B', 'C') [0, 1, 2, 3] [0, 1, 1, 2]\n",
      "('A', 'S', 'C', 'B') [0, 1, 3, 3] [0, 1, 1, 3]\n",
      "('A', 'B', 'S', 'C') [0, 0, 2, 3] [0, 0, 2, 2]\n",
      "('A', 'B', 'C', 'S') [0, 0, 0, 3] [0, 0, 0, 3]\n",
      "('A', 'C', 'S', 'B') [0, 0, 3, 3] [0, 0, 3, 3]\n",
      "('A', 'C', 'B', 'S') [0, 0, 0, 3] [0, 0, 0, 3]\n",
      "('B', 'S', 'A', 'C') [0, 2, 2, 3] [0, 2, 2, 2]\n",
      "('B', 'S', 'C', 'A') [0, 2, 2, 3] [0, 2, 2, 3]\n",
      "('B', 'A', 'S', 'C') [0, 0, 2, 3] [0, 0, 2, 2]\n",
      "('B', 'A', 'C', 'S') [0, 0, 0, 3] [0, 0, 0, 3]\n",
      "('B', 'C', 'S', 'A') [0, 0, 2, 3] [0, 0, 2, 3]\n",
      "('B', 'C', 'A', 'S') [0, 0, 0, 3] [0, 0, 0, 3]\n",
      "('C', 'S', 'A', 'B') [0, 0, 3, 3] [0, 0, 3, 3]\n",
      "('C', 'S', 'B', 'A') [0, 0, 2, 3] [0, 0, 0, 3]\n",
      "('C', 'A', 'S', 'B') [0, 0, 3, 3] [0, 0, 3, 3]\n",
      "('C', 'A', 'B', 'S') [0, 0, 0, 3] [0, 0, 0, 3]\n",
      "('C', 'B', 'S', 'A') [0, 0, 2, 3] [0, 0, 2, 3]\n",
      "('C', 'B', 'A', 'S') [0, 0, 0, 3] [0, 0, 0, 3]\n"
     ]
    }
   ],
   "source": [
    "## the Number of Items\n",
    "K = 1\n",
    "\n",
    "## the Social Network\n",
    "# a dict saving all participants' info \n",
    "# {name(string): (valuation, neighbor)}\n",
    "# the valuation of seller S is reserved price 0\n",
    "\n",
    "# participantsInfo = {\\\n",
    "#     'S': ([0], ['A', 'B', 'C']), \\\n",
    "#     'A': ([1], ['S', 'D']), \\\n",
    "#     'B': ([5], ['S', 'E', 'F']), \\\n",
    "#     'C': ([3], ['S', 'G']), \\\n",
    "#     'D': ([6], ['A', 'H']), \\\n",
    "#     'E': ([5.5], ['B', 'I']), \\\n",
    "#     'F': ([7], ['B']), \\\n",
    "#     'G': ([9], ['C']), \\\n",
    "#     'H': ([10], ['D']), \\\n",
    "#     'I': ([8], ['E', 'J']), \\\n",
    "#     'J': ([12], ['I', 'K']), \\\n",
    "#     'K': ([13], ['J'])}\n",
    "# participantsName = ['S', 'A', 'B', 'C', 'D', 'E', 'F', 'G', 'H', 'I', 'J', 'K']\n",
    "# a list saving all participants' name (used for permutation)\n",
    "\n",
    "participantsName=[\"S\", \"A\", \"B\", \"C\"]\n",
    "participantsInfo={\\\n",
    "                    \"S\":([0],[\"A\",\"B\"]),\\\n",
    "                    \"A\":([1],[\"S\",\"C\"]),\\\n",
    "                    \"B\":([2],[\"S\"]),\\\n",
    "                    \"C\":([3],[\"A\"])      }\n",
    "\n",
    "\n",
    "# the number of participants (NOT incluse the seller)\n",
    "N = len(participantsName) - 1\n",
    "\n",
    "## Permutations\n",
    "# all (out of memory)\n",
    "# allPermutations = list(itertools.permutations(participantsName,1))\n",
    "# print(allPermutations)\n",
    "# random\n",
    "for i in itertools.permutations(participantsName,len(participantsName)):\n",
    "    print(i,SW_of_permutation_first_price(participantsInfo,i),SW_of_permutation_first_price_modified(participantsInfo,i))\n",
    "\n",
    "#randomPermutation = np.random.permutation(participantsName)\n",
    "# randomPermutation = ['G', 'E', 'H', 'F', 'I', 'A', 'S', 'C', 'B', 'D', 'J', 'K']\n",
    "\n",
    "\n"
   ]
  },
  {
   "cell_type": "code",
   "execution_count": null,
   "metadata": {},
   "outputs": [],
   "source": []
  }
 ],
 "metadata": {
  "interpreter": {
   "hash": "8fcb03002c0448fd7688adb99a6d9f2edcc323717d5f694c6c16000aad5b8e97"
  },
  "kernelspec": {
   "display_name": "Python 3.6.13 64-bit ('ML': conda)",
   "language": "python",
   "name": "python3"
  },
  "language_info": {
   "codemirror_mode": {
    "name": "ipython",
    "version": 3
   },
   "file_extension": ".py",
   "mimetype": "text/x-python",
   "name": "python",
   "nbconvert_exporter": "python",
   "pygments_lexer": "ipython3",
   "version": "3.6.13"
  },
  "orig_nbformat": 4
 },
 "nbformat": 4,
 "nbformat_minor": 2
}
